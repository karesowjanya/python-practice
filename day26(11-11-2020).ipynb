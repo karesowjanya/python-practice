{
 "cells": [
  {
   "cell_type": "markdown",
   "metadata": {},
   "source": [
    "## functional argument:\n",
    "    - function ?\n",
    "    - types[user-define,predefined]\n",
    "    -argument passing->default arguments\n",
    "                       - keyword arguments\n",
    "                       - required arguments\n",
    "                       - argument length"
   ]
  },
  {
   "cell_type": "markdown",
   "metadata": {},
   "source": [
    "## anonymous function or functional prgramming\n",
    "    - lambda->anonmyous sunction(keyword doesnt use in this function creation)\n",
    "    - it can be appicable for all mathematical expressions\n",
    "    - lambda cant use def keyword. it can be used in large appilications to reduce the code\n",
    "    - it can be implemented to a comprehensions or looping\n",
    "    - it can be divided into three times they are:\n",
    "        - map\n",
    "        - filter\n",
    "        - reduce"
   ]
  },
  {
   "cell_type": "code",
   "execution_count": null,
   "metadata": {},
   "outputs": [],
   "source": [
    "#function syntax:\n",
    "def f_name(arguments):\n",
    "    ''''Function doc_string'''\n",
    "    // statements\n",
    "    return return_value\n",
    "\n",
    "#Lambda syntax:\n",
    "lambda arguments:expression\n"
   ]
  },
  {
   "cell_type": "code",
   "execution_count": 6,
   "metadata": {},
   "outputs": [
    {
     "name": "stdout",
     "output_type": "stream",
     "text": [
      "2\n",
      "3\n",
      "5\n"
     ]
    }
   ],
   "source": [
    "def add(a,b):\n",
    "    return a+b\n",
    "m=int(input())\n",
    "n=int(input())\n",
    "print(add(n,m))"
   ]
  },
  {
   "cell_type": "code",
   "execution_count": 14,
   "metadata": {},
   "outputs": [
    {
     "name": "stdout",
     "output_type": "stream",
     "text": [
      "1\n",
      "2\n",
      "9\n"
     ]
    }
   ],
   "source": [
    "# using lambda\n",
    "n=lambda a,b:a**2+b**2*a*b\n",
    "print(n(int(input()),int(input())))"
   ]
  },
  {
   "cell_type": "markdown",
   "metadata": {},
   "source": [
    "### lambda map\n",
    "    -It can be used to change the datatype of an iterator\n",
    "    - syntax:\n",
    "            map(function ,iterartor) or map(datatype,iterators)\n",
    "    - "
   ]
  },
  {
   "cell_type": "code",
   "execution_count": 16,
   "metadata": {},
   "outputs": [
    {
     "name": "stdout",
     "output_type": "stream",
     "text": [
      "1 2 3 4\n",
      "[1, 2, 3, 4]\n"
     ]
    }
   ],
   "source": [
    "s=input().split()\n",
    "r=[]\n",
    "for i in s:\n",
    "    r.append(int(i))\n",
    "print(r)"
   ]
  },
  {
   "cell_type": "code",
   "execution_count": 29,
   "metadata": {},
   "outputs": [
    {
     "name": "stdout",
     "output_type": "stream",
     "text": [
      "3 4 5 6\n",
      "[3, 4, 5, 6]\n"
     ]
    }
   ],
   "source": [
    "k = list(map(int,input().split()))\n",
    "print(k)"
   ]
  },
  {
   "cell_type": "code",
   "execution_count": 30,
   "metadata": {},
   "outputs": [
    {
     "name": "stdout",
     "output_type": "stream",
     "text": [
      "[False, True, True, True]\n"
     ]
    }
   ],
   "source": [
    "y=[3,6,8,8]\n",
    "r=list(map(lambda s:s%2==0,y))\n",
    "print(r)"
   ]
  },
  {
   "cell_type": "code",
   "execution_count": 32,
   "metadata": {},
   "outputs": [
    {
     "name": "stdout",
     "output_type": "stream",
     "text": [
      "3 4 5 \n"
     ]
    }
   ],
   "source": [
    "def mlt(u):\n",
    "    for p in u:\n",
    "        if p%2==0:\n",
    "            return True\n",
    "    return False\n",
    "r1=list(map(int,input().split()))"
   ]
  },
  {
   "cell_type": "code",
   "execution_count": null,
   "metadata": {},
   "outputs": [],
   "source": []
  }
 ],
 "metadata": {
  "kernelspec": {
   "display_name": "Python 3",
   "language": "python",
   "name": "python3"
  },
  "language_info": {
   "codemirror_mode": {
    "name": "ipython",
    "version": 3
   },
   "file_extension": ".py",
   "mimetype": "text/x-python",
   "name": "python",
   "nbconvert_exporter": "python",
   "pygments_lexer": "ipython3",
   "version": "3.7.4"
  }
 },
 "nbformat": 4,
 "nbformat_minor": 4
}
