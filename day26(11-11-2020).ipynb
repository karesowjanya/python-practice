{
 "cells": [
  {
   "cell_type": "markdown",
   "metadata": {},
   "source": [
    "## functional argument:\n",
    "    - function ?\n",
    "    - types[user-define,predefined]\n",
    "    -argument passing->default arguments\n",
    "                       - keyword arguments\n",
    "                       - required arguments\n",
    "                       - argument length"
   ]
  },
  {
   "cell_type": "markdown",
   "metadata": {},
   "source": [
    "## anonymous function or functional prgramming\n",
    "    - lambda->anonmyous sunction(keyword doesnt use in this function creation)\n",
    "    - it can be appicable for all mathematical expressions\n",
    "    - lambda cant use def keyword. it can be used in large appilications to reduce the code\n",
    "    - it can be implemented to a comprehensions or looping\n",
    "    - it can be divided into three times they are:\n",
    "        - map\n",
    "        - filter\n",
    "        - reduce"
   ]
  },
  {
   "cell_type": "code",
   "execution_count": null,
   "metadata": {},
   "outputs": [],
   "source": [
    "#function syntax:\n",
    "def f_name(arguments):\n",
    "    ''''Function doc_string'''\n",
    "    // statements\n",
    "    return return_value\n",
    "\n",
    "#Lambda syntax:\n",
    "lambda arguments:expression\n"
   ]
  },
  {
   "cell_type": "code",
   "execution_count": 6,
   "metadata": {},
   "outputs": [
    {
     "name": "stdout",
     "output_type": "stream",
     "text": [
      "2\n",
      "3\n",
      "5\n"
     ]
    }
   ],
   "source": [
    "def add(a,b):\n",
    "    return a+b\n",
    "m=int(input())\n",
    "n=int(input())\n",
    "print(add(n,m))"
   ]
  },
  {
   "cell_type": "code",
   "execution_count": 14,
   "metadata": {},
   "outputs": [
    {
     "name": "stdout",
     "output_type": "stream",
     "text": [
      "1\n",
      "2\n",
      "9\n"
     ]
    }
   ],
   "source": [
    "# using lambda\n",
    "n=lambda a,b:a**2+b**2*a*b\n",
    "print(n(int(input()),int(input())))"
   ]
  },
  {
   "cell_type": "markdown",
   "metadata": {},
   "source": [
    "### lambda map\n",
    "    -It can be used to change the datatype of an iterator\n",
    "    - syntax:\n",
    "            map(function ,iterartor) or map(datatype,iterators)\n",
    "    - "
   ]
  },
  {
   "cell_type": "code",
   "execution_count": 16,
   "metadata": {},
   "outputs": [
    {
     "name": "stdout",
     "output_type": "stream",
     "text": [
      "1 2 3 4\n",
      "[1, 2, 3, 4]\n"
     ]
    }
   ],
   "source": [
    "s=input().split()\n",
    "r=[]\n",
    "for i in s:\n",
    "    r.append(int(i))\n",
    "print(r)"
   ]
  },
  {
   "cell_type": "code",
   "execution_count": 29,
   "metadata": {},
   "outputs": [
    {
     "name": "stdout",
     "output_type": "stream",
     "text": [
      "3 4 5 6\n",
      "[3, 4, 5, 6]\n"
     ]
    }
   ],
   "source": [
    "k = list(map(int,input().split()))\n",
    "print(k)"
   ]
  },
  {
   "cell_type": "code",
   "execution_count": 30,
   "metadata": {},
   "outputs": [
    {
     "name": "stdout",
     "output_type": "stream",
     "text": [
      "[False, True, True, True]\n"
     ]
    }
   ],
   "source": [
    "y=[3,6,8,8]\n",
    "r=list(map(lambda s:s%2==0,y))\n",
    "print(r)"
   ]
  },
  {
   "cell_type": "code",
   "execution_count": 32,
   "metadata": {},
   "outputs": [
    {
     "name": "stdout",
     "output_type": "stream",
     "text": [
      "3 4 5 \n"
     ]
    }
   ],
   "source": [
    "def mlt(u):\n",
    "    for p in u:\n",
    "        if p%2==0:\n",
    "            return True\n",
    "    return False\n",
    "r1=list(map(int,input().split()))"
   ]
  },
  {
   "cell_type": "code",
   "execution_count": 3,
   "metadata": {},
   "outputs": [
    {
     "name": "stdout",
     "output_type": "stream",
     "text": [
      "2 3 4 5\n",
      "[False, True, False, False]\n"
     ]
    }
   ],
   "source": [
    "# Only 3 multiples\n",
    "def Tml(h):\n",
    "    return h%3==0\n",
    "\n",
    "e = input().split()\n",
    "q = []\n",
    "for m in e:\n",
    "    q.append(int(m))\n",
    "# print(Tml(q))\n",
    "print(list(map(Tml,q)))\n"
   ]
  },
  {
   "cell_type": "code",
   "execution_count": 4,
   "metadata": {},
   "outputs": [
    {
     "name": "stdout",
     "output_type": "stream",
     "text": [
      "3 4 6 8\n",
      "[True, False, True, False]\n"
     ]
    }
   ],
   "source": [
    "print(list(map(lambda t:t%3==0,map(int,input().split()))))"
   ]
  },
  {
   "cell_type": "markdown",
   "metadata": {},
   "source": [
    "### Filter:\n",
    "    -> It prints only True values to an iterator\n",
    "    -> Syntax:\n",
    "        filter(functionname,iterator)"
   ]
  },
  {
   "cell_type": "code",
   "execution_count": 5,
   "metadata": {},
   "outputs": [
    {
     "name": "stdout",
     "output_type": "stream",
     "text": [
      "2 3 4 5\n",
      "[3]\n"
     ]
    }
   ],
   "source": [
    "def tmul(v):\n",
    "    return v%3==0\n",
    "\n",
    "j = list(map(int,input().split()))\n",
    "print(list(filter(tmul,j)))"
   ]
  },
  {
   "cell_type": "code",
   "execution_count": 6,
   "metadata": {},
   "outputs": [
    {
     "name": "stdout",
     "output_type": "stream",
     "text": [
      "1 2 3 4 5 6 \n",
      "[3, 6]\n"
     ]
    }
   ],
   "source": [
    "print(list(filter(lambda a:a%3==0,map(int,input().split()))))"
   ]
  },
  {
   "cell_type": "code",
   "execution_count": 8,
   "metadata": {},
   "outputs": [
    {
     "name": "stdout",
     "output_type": "stream",
     "text": [
      "2 3 4 2 5 2 6\n",
      "[2, 2, 2]\n"
     ]
    }
   ],
   "source": [
    "print(list(filter(lambda e:e==2,map(int,input().split()))))"
   ]
  },
  {
   "cell_type": "code",
   "execution_count": 9,
   "metadata": {},
   "outputs": [
    {
     "name": "stdout",
     "output_type": "stream",
     "text": [
      "2 3 6 7 100 3 4\n",
      "[2, 3, 6, 7, 3, 4]\n"
     ]
    }
   ],
   "source": [
    "al = list(filter(lambda e:e<20,map(int,input().split())))\n",
    "print(list(filter(lambda r:r<10,al)))"
   ]
  },
  {
   "cell_type": "markdown",
   "metadata": {},
   "source": [
    "#### reduce:\n",
    "    -> It prints or else it returns only single value\n",
    "    -> Syntax:\n",
    "        reduce(functionaname,iterator)\n",
    "    -> It can be accessible by using import statement of functools\n"
   ]
  },
  {
   "cell_type": "code",
   "execution_count": 10,
   "metadata": {},
   "outputs": [
    {
     "name": "stdout",
     "output_type": "stream",
     "text": [
      "23 45 67 8 9\n",
      "135\n"
     ]
    }
   ],
   "source": [
    "from functools import reduce \n",
    "r = list(filter(lambda f:f>20,map(int,input().split())))\n",
    "print(reduce(lambda x,y:x+y,r))"
   ]
  },
  {
   "cell_type": "markdown",
   "metadata": {},
   "source": [
    "```\n",
    "a = [5, 6,7, 8]\n",
    " s = 0 + 5 => s\n",
    " s = 5 + 6 => s\n",
    " s = 11+ 7 => s\n",
    " s = 18+ 8 => s\n",
    " s = 26\n",
    "```"
   ]
  },
  {
   "cell_type": "code",
   "execution_count": 11,
   "metadata": {},
   "outputs": [
    {
     "name": "stdout",
     "output_type": "stream",
     "text": [
      "2 3 4 56\n",
      "56\n"
     ]
    }
   ],
   "source": [
    "print(reduce(lambda x,y:x+y,filter(lambda f:f>20,map(int,input().split()))))"
   ]
  },
  {
   "cell_type": "markdown",
   "metadata": {},
   "source": [
    "```\n",
    "Lambda,Map,Filter,Reduce:\n",
    "\n",
    "https://medium.com/@goutomroy/python-lambda-map-filter-reduce-261f29561fcc\n",
    "\n",
    "https://stackabuse.com/map-filter-and-reduce-in-python-with-examples/\n",
    "\n",
    "Functional Arguments:\n",
    "\n",
    "https://www.tutorialspoint.com/python/python_functions.htm\n",
    "```"
   ]
  },
  {
   "cell_type": "code",
   "execution_count": null,
   "metadata": {},
   "outputs": [],
   "source": []
  }
 ],
 "metadata": {
  "kernelspec": {
   "display_name": "Python 3",
   "language": "python",
   "name": "python3"
  },
  "language_info": {
   "codemirror_mode": {
    "name": "ipython",
    "version": 3
   },
   "file_extension": ".py",
   "mimetype": "text/x-python",
   "name": "python",
   "nbconvert_exporter": "python",
   "pygments_lexer": "ipython3",
   "version": "3.7.4"
  }
 },
 "nbformat": 4,
 "nbformat_minor": 4
}
