{
 "cells": [
  {
   "cell_type": "markdown",
   "metadata": {},
   "source": [
    "## OOP's(object oriented programming):\n",
    "- use of this oops is hiding data like packages\n",
    "- here we will split a large program into sub parts\n",
    "- opps provides better security\n",
    "### properties:\n",
    "- class\n",
    "- object\n",
    "- method\n",
    "- polymorphism\n",
    "- encapsulation\n",
    "- abstraction\n",
    "- data hiding\n"
   ]
  },
  {
   "cell_type": "markdown",
   "metadata": {},
   "source": [
    "## class:\n",
    "- class is a blue print of the object\n",
    "- class is collection of member variables(objects) and member functions(methods)\n",
    "- syntax:\n",
    "```\n",
    "class class_name:\n",
    "        member variable\n",
    "        member functions\n",
    "```\n",
    "### rules for defing a class:\n",
    "- class name should start with caps\n",
    "- class name should not contains spaces \n",
    "- the class name should not be started with numbers\n",
    "- to creat class we use class keyword\n"
   ]
  },
  {
   "cell_type": "code",
   "execution_count": 1,
   "metadata": {},
   "outputs": [
    {
     "name": "stdout",
     "output_type": "stream",
     "text": [
      "<class 'int'>\n"
     ]
    }
   ],
   "source": [
    "a=10\n",
    "print(type(a))//variable is object"
   ]
  },
  {
   "cell_type": "markdown",
   "metadata": {},
   "source": [
    "# functions and methods\n",
    "- in oop function are called as methods\n",
    "```\n",
    "def add():\n",
    "    return 4+5\n",
    "\n",
    "class hello:\n",
    "    def add():\n",
    "        return 4+5\n",
    "       ```"
   ]
  },
  {
   "cell_type": "code",
   "execution_count": 10,
   "metadata": {},
   "outputs": [
    {
     "name": "stdout",
     "output_type": "stream",
     "text": [
      "sowjanya 65\n"
     ]
    }
   ],
   "source": [
    "class myinfo:\n",
    "    name=\"sowjanya\"\n",
    "    rollno= 65\n",
    "    \n",
    "    def printinfo():\n",
    "        print(name,' ',rollno)\n",
    "print(myinfo.name,myinfo.rollno)# with out using object we can access values\n"
   ]
  },
  {
   "cell_type": "markdown",
   "metadata": {},
   "source": [
    "### object\n",
    "- instance of class\n",
    "- real time entity\n",
    "- syntax\n",
    "```\n",
    "obj_name=class-name\n",
    "```"
   ]
  },
  {
   "cell_type": "code",
   "execution_count": 16,
   "metadata": {},
   "outputs": [
    {
     "name": "stdout",
     "output_type": "stream",
     "text": [
      "sowjanya\n",
      "im print method\n",
      "None\n"
     ]
    }
   ],
   "source": [
    "class Myinfo:\n",
    "    name=\"sowjanya\"\n",
    "    rollno= 65\n",
    "    \n",
    "    def printinfo():\n",
    "        print('im print method')\n",
    "obj = Myinfo\n",
    "print(obj.name)\n",
    "print(obj.printinfo())"
   ]
  },
  {
   "cell_type": "code",
   "execution_count": 24,
   "metadata": {},
   "outputs": [
    {
     "name": "stdout",
     "output_type": "stream",
     "text": [
      "2\n",
      "3\n",
      "5\n",
      "\n",
      "    hi welcome to my math class,\n",
      "    here we implemented add() for that add u have to pass two values\n",
      "    \n",
      "5\n"
     ]
    }
   ],
   "source": [
    "class Mymath:\n",
    "    '''\n",
    "    hi welcome to my math class,\n",
    "    here we implemented add() for that add u have to pass two values\n",
    "    '''\n",
    "    \n",
    "    def add(n1, n2):\n",
    "        return n1 + n2\n",
    "ob = Mymath\n",
    "print(ob.add(int(input()),int(input())))\n",
    "print(ob.__doc__)\n",
    "print(ob.add(2,3))"
   ]
  },
  {
   "cell_type": "code",
   "execution_count": 32,
   "metadata": {},
   "outputs": [
    {
     "name": "stdout",
     "output_type": "stream",
     "text": [
      "\n",
      "    hi welcome to my math class,\n",
      "    here we implemented add() for that add u have to pass two values\n",
      "    \n"
     ]
    },
    {
     "ename": "TypeError",
     "evalue": "add() takes 2 positional arguments but 3 were given",
     "output_type": "error",
     "traceback": [
      "\u001b[1;31m---------------------------------------------------------------------------\u001b[0m",
      "\u001b[1;31mTypeError\u001b[0m                                 Traceback (most recent call last)",
      "\u001b[1;32m<ipython-input-32-15db6c236b03>\u001b[0m in \u001b[0;36m<module>\u001b[1;34m\u001b[0m\n\u001b[0;32m     14\u001b[0m \u001b[0mob\u001b[0m \u001b[1;33m=\u001b[0m \u001b[0mMymath\u001b[0m\u001b[1;33m(\u001b[0m\u001b[1;33m)\u001b[0m\u001b[1;33m\u001b[0m\u001b[1;33m\u001b[0m\u001b[0m\n\u001b[0;32m     15\u001b[0m \u001b[0mprint\u001b[0m\u001b[1;33m(\u001b[0m\u001b[0mob\u001b[0m\u001b[1;33m.\u001b[0m\u001b[0m__doc__\u001b[0m\u001b[1;33m)\u001b[0m\u001b[1;33m\u001b[0m\u001b[1;33m\u001b[0m\u001b[0m\n\u001b[1;32m---> 16\u001b[1;33m \u001b[0mprint\u001b[0m\u001b[1;33m(\u001b[0m\u001b[0mob\u001b[0m\u001b[1;33m.\u001b[0m\u001b[0madd\u001b[0m\u001b[1;33m(\u001b[0m\u001b[1;36m2\u001b[0m\u001b[1;33m,\u001b[0m\u001b[1;36m3\u001b[0m\u001b[1;33m)\u001b[0m\u001b[1;33m)\u001b[0m\u001b[1;33m\u001b[0m\u001b[1;33m\u001b[0m\u001b[0m\n\u001b[0m\u001b[0;32m     17\u001b[0m \u001b[0mprint\u001b[0m\u001b[1;33m(\u001b[0m\u001b[0mob\u001b[0m\u001b[1;33m.\u001b[0m\u001b[0msub\u001b[0m\u001b[1;33m(\u001b[0m\u001b[1;36m2\u001b[0m\u001b[1;33m,\u001b[0m\u001b[1;36m3\u001b[0m\u001b[1;33m)\u001b[0m\u001b[1;33m)\u001b[0m\u001b[1;33m\u001b[0m\u001b[1;33m\u001b[0m\u001b[0m\n\u001b[0;32m     18\u001b[0m \u001b[0mprint\u001b[0m\u001b[1;33m(\u001b[0m\u001b[0mob\u001b[0m\u001b[1;33m.\u001b[0m\u001b[0mmul\u001b[0m\u001b[1;33m(\u001b[0m\u001b[1;36m2\u001b[0m\u001b[1;33m,\u001b[0m\u001b[1;36m3\u001b[0m\u001b[1;33m)\u001b[0m\u001b[1;33m)\u001b[0m\u001b[1;33m\u001b[0m\u001b[1;33m\u001b[0m\u001b[0m\n",
      "\u001b[1;31mTypeError\u001b[0m: add() takes 2 positional arguments but 3 were given"
     ]
    }
   ],
   "source": [
    "class Mymath():\n",
    "    '''\n",
    "    hi welcome to my math class,\n",
    "    here we implemented add() for that add u have to pass two values\n",
    "    '''\n",
    "    \n",
    "    \n",
    "    def add(n1, n2):\n",
    "        return n1 + n2\n",
    "    def sub(n1, n2):\n",
    "        return n1 - n2\n",
    "    def mul(n1, n2):\n",
    "        return n1 * n2\n",
    "ob = Mymath()\n",
    "print(ob.__doc__)\n",
    "print(ob.add(2,3))\n",
    "print(ob.sub(2,3))\n",
    "print(ob.mul(2,3))"
   ]
  },
  {
   "cell_type": "markdown",
   "metadata": {},
   "source": [
    "## constructor\n",
    "- without using object we will call constructor method(when object is created)\n",
    "- in python __init__(self) method will work like as a constructor\n",
    "- constructors are two types :default and parametered\n"
   ]
  },
  {
   "cell_type": "code",
   "execution_count": 39,
   "metadata": {},
   "outputs": [
    {
     "name": "stdout",
     "output_type": "stream",
     "text": [
      "3 , 4 im constructor\n",
      "7\n"
     ]
    }
   ],
   "source": [
    "class Mymath():\n",
    "    '''\n",
    "    hi welcome to my math class,\n",
    "    here we implemented add() for that add u have to pass two values\n",
    "    '''\n",
    "    def __init__(self,n1,n2):# store values coming from out side\n",
    "        self.n1 = n1\n",
    "        self.n2 = n2\n",
    "        print(self.n1,',',self.n2,'im constructor')\n",
    "    def add(self):\n",
    "        return self.n1 + self.n2\n",
    "ob = Mymath(3,4)\n",
    "print(ob.add())\n",
    "\n"
   ]
  },
  {
   "cell_type": "code",
   "execution_count": null,
   "metadata": {},
   "outputs": [],
   "source": []
  }
 ],
 "metadata": {
  "kernelspec": {
   "display_name": "Python 3",
   "language": "python",
   "name": "python3"
  },
  "language_info": {
   "codemirror_mode": {
    "name": "ipython",
    "version": 3
   },
   "file_extension": ".py",
   "mimetype": "text/x-python",
   "name": "python",
   "nbconvert_exporter": "python",
   "pygments_lexer": "ipython3",
   "version": "3.7.4"
  }
 },
 "nbformat": 4,
 "nbformat_minor": 4
}
